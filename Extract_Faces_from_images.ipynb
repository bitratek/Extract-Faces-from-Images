{
 "cells": [
  {
   "cell_type": "code",
   "execution_count": null,
   "metadata": {
    "id": "Iei4yoE1CUOG"
   },
   "outputs": [],
   "source": [
    "import cv2\n",
    "import dlib\n",
    "import glob\n",
    "from google.colab.patches import cv2_imshow\n",
    "from datetime import datetime"
   ]
  },
  {
   "cell_type": "code",
   "execution_count": null,
   "metadata": {
    "id": "imKdVDdLCbpg"
   },
   "outputs": [],
   "source": [
    "detector = dlib.get_frontal_face_detector()\n",
    "new_path ='/content/drive/MyDrive/scrap/'"
   ]
  },
  {
   "cell_type": "code",
   "execution_count": null,
   "metadata": {
    "id": "93Oi-KY5C6p3"
   },
   "outputs": [],
   "source": [
    "def MyRec(rgb,x,y,w,h,v=20,color=(200,0,0),thikness =2):\n",
    "    \"\"\"To draw stylish rectangle around the objects\"\"\"\n",
    "    cv2.line(rgb, (x,y),(x+v,y), color, thikness)\n",
    "    cv2.line(rgb, (x,y),(x,y+v), color, thikness)\n",
    "\n",
    "    cv2.line(rgb, (x+w,y),(x+w-v,y), color, thikness)\n",
    "    cv2.line(rgb, (x+w,y),(x+w,y+v), color, thikness)\n",
    "\n",
    "    cv2.line(rgb, (x,y+h),(x,y+h-v), color, thikness)\n",
    "    cv2.line(rgb, (x,y+h),(x+v,y+h), color, thikness)\n",
    "\n",
    "    cv2.line(rgb, (x+w,y+h),(x+w,y+h-v), color, thikness)\n",
    "    cv2.line(rgb, (x+w,y+h),(x+w-v,y+h), color, thikness)"
   ]
  },
  {
   "cell_type": "code",
   "execution_count": null,
   "metadata": {
    "id": "li2JJVmkC_UI"
   },
   "outputs": [],
   "source": [
    "def save(img,name, bbox, width=180,height=227):\n",
    "    x, y, w, h = bbox\n",
    "    imgCrop = img[y:h, x: w]\n",
    "    imgCrop = cv2.resize(imgCrop, (width, height))#we need this line to reshape the images\n",
    "    cv2_imshow(imgCrop)\n",
    "    cv2.imwrite(name+\".jpg\", imgCrop)\n"
   ]
  },
  {
   "cell_type": "code",
   "execution_count": null,
   "metadata": {
    "id": "rRUBbwj2DDHx"
   },
   "outputs": [],
   "source": [
    "def faces(frame,prefix):\n",
    "    #gray =cv2.cvtColor(frame,cv2.COLOR_BGR2GRAY)\n",
    "    faces = detector(frame)\n",
    "    fit =40\n",
    "    # detect the face\n",
    "    for counter,face in enumerate(faces):\n",
    "        print(counter)\n",
    "        x1, y1 = face.left(), face.top()\n",
    "        x2, y2 = face.right(), face.bottom()\n",
    "        #cv2.rectangle(frame,(x1,y1),(x2,y2),(220,255,220),1)\n",
    "        #MyRec(frame, x1, y1, x2 - x1, y2 - y1, 10, (0,250,0), 3)\n",
    "        save(frame,new_path+str(prefix)+str(counter),(x1-fit,y1-fit,x2+fit,y2+fit))\n",
    "        print(new_path+str(prefix)+str(counter))\n",
    "        #cv2_imshow(gray)\n",
    "        #save(gray,new_path+str(counter),(x1,y1,x2,y2))\n",
    "    #frame = cv2.resize(frame,(800,800))\n",
    "    #cv2_imshow(frame)\n",
    "    cv2.waitKey(0)\n",
    "    print(\"done saving\")"
   ]
  },
  {
   "cell_type": "code",
   "execution_count": null,
   "metadata": {
    "colab": {
     "base_uri": "https://localhost:8080/",
     "height": 1000
    },
    "id": "pRUYLYF8DIpa",
    "outputId": "992ba75e-fe49-4fa3-dc55-aaefa8e10ee2"
   },
   "outputs": [],
   "source": [
    "from IPython.core.display import Image\n",
    "path = \"/content/drive/MyDrive/Family Docs/Photos/*.jpg\"\n",
    "\n",
    "for img in glob.glob(path):\n",
    "   prefix = datetime.today().strftime('%Y-%m-%d %H:%M:%S')\n",
    "   img= cv2.imread(img)\n",
    "   print('Original Photo')\n",
    "   cv2_imshow(cv2.resize(img,(400,400)))\n",
    "   print('face photo')\n",
    "   faces(img, prefix)\n",
    "   "
   ]
  },
  {
   "cell_type": "code",
   "execution_count": null,
   "metadata": {
    "colab": {
     "base_uri": "https://localhost:8080/",
     "height": 35
    },
    "id": "72TR6MUnDrCI",
    "outputId": "767e1289-f118-4c10-915c-39ca195db26b"
   },
   "outputs": [],
   "source": [
    "datetime.today().strftime('%Y-%m-%d %H:%M:%S')"
   ]
  }
 ],
 "metadata": {
  "colab": {
   "provenance": []
  },
  "kernelspec": {
   "display_name": "Python 3 (ipykernel)",
   "language": "python",
   "name": "python3"
  },
  "language_info": {
   "codemirror_mode": {
    "name": "ipython",
    "version": 3
   },
   "file_extension": ".py",
   "mimetype": "text/x-python",
   "name": "python",
   "nbconvert_exporter": "python",
   "pygments_lexer": "ipython3",
   "version": "3.9.12"
  }
 },
 "nbformat": 4,
 "nbformat_minor": 1
}
